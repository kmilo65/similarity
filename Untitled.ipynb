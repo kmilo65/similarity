{
 "cells": [
  {
   "cell_type": "code",
   "execution_count": 42,
   "metadata": {},
   "outputs": [],
   "source": [
    "import mysql.connector\n",
    "import pandas as pd\n"
   ]
  },
  {
   "cell_type": "code",
   "execution_count": 43,
   "metadata": {},
   "outputs": [],
   "source": [
    "USER = \"chenriquez\"\n",
    "PASSWORD = \"Chilote64#\"\n",
    "IP = \"localhost\"\n",
    "BD_NAME = \"analitica2\"\n",
    "\n",
    "FULL_PATH_CONNECTION_BD_MYSQL = \"mysql://\" + USER + \":\" + PASSWORD + \"@\" + IP + \"/\" + BD_NAME"
   ]
  },
  {
   "cell_type": "code",
   "execution_count": 44,
   "metadata": {},
   "outputs": [],
   "source": [
    "cnx = mysql.connector.connect(user=USER, \n",
    "                                  password=PASSWORD,\n",
    "                                  host='127.0.0.1',\n",
    "                                  database=BD_NAME,\n",
    "                                  auth_plugin='mysql_native_password')\n",
    "        "
   ]
  },
  {
   "cell_type": "code",
   "execution_count": 73,
   "metadata": {},
   "outputs": [],
   "source": [
    "query=\"select distinct hiercode from rp_main_hiercode_prod_sold\"\n",
    "cursor = cnx.cursor()\n",
    "cursor.execute(query)    \n",
    "lst_hiercode=[item[0] for item in cursor.fetchall()]"
   ]
  },
  {
   "cell_type": "code",
   "execution_count": 74,
   "metadata": {},
   "outputs": [
    {
     "name": "stdout",
     "output_type": "stream",
     "text": [
      "<class 'list'>\n"
     ]
    }
   ],
   "source": [
    "print(type(lst_hiercode))"
   ]
  },
  {
   "cell_type": "code",
   "execution_count": 76,
   "metadata": {},
   "outputs": [
    {
     "name": "stdout",
     "output_type": "stream",
     "text": [
      "['S000065', 'S000117', 'S000146', 'S000157', 'S001173', 'S003028', 'S003065', 'S005002', 'S005034', 'S015004', 'S030002', 'S039004', 'S500061', 'S500109', 'S500134', 'S500136', 'S500152', 'S500173', 'S500233', 'S500305', 'S500358', 'S500564', 'S500600', 'S500618', 'S500623', 'S502259', 'S502716', 'S502723', 'S502729', 'S502736', 'S521858', 'S521874', 'S521890', 'S521891', 'S521990', 'S521991', 'S522143', 'S522470', 'S522477', 'S522484', 'S522498', 'S523574', 'S523658', 'S523964', 'S523974', 'S523976', 'S523984', 'S524335', 'S524350', 'S524358', 'S524508', 'S524951', 'S524986', 'S525433', 'S525434', 'S525439', 'S525440', 'S525444', 'S525445', 'S525450', 'S526867', 'S526868', 'S526982', 'S526983', 'S526992', 'S526996', 'S526997', 'S527034', 'S527036', 'S527072', 'S527089', 'S527111', 'S527139', 'S527207', 'S527221', 'S527287', 'S527379', 'S527983', 'S527994', 'S528012', 'S528023', 'S528026', 'S528027', 'S528029', 'S528033', 'S528035', 'S528036', 'S528037', 'S528040', 'S528042', 'S528043', 'S528046', 'S528047', 'S528167', 'S528490', 'S528616', 'S528617', 'S529371', 'S529648', 'S529714', 'S529762', 'S529786', 'S529796', 'S529822', 'S529856', 'S529892', 'S529915', 'S529922', 'S530592', 'S530647', 'S530824', 'S530833']\n"
     ]
    }
   ],
   "source": [
    "print(lst_hiercode)"
   ]
  },
  {
   "cell_type": "code",
   "execution_count": 75,
   "metadata": {},
   "outputs": [
    {
     "name": "stdout",
     "output_type": "stream",
     "text": [
      "112\n"
     ]
    }
   ],
   "source": [
    "print(len(lst_hiercode))"
   ]
  },
  {
   "cell_type": "code",
   "execution_count": 58,
   "metadata": {},
   "outputs": [],
   "source": [
    "query2='select hiercode,prodcode, concat(season,\" \",description) as description  from rp_main_hiercode_prod_sold'\n",
    "cursor=cnx.cursor()\n",
    "cursor.execute(query2)\n",
    "df=pd.DataFrame(cursor.fetchall())\n",
    "field_names = [i[0] for i in cursor.description]\n",
    "df.columns = field_names"
   ]
  },
  {
   "cell_type": "code",
   "execution_count": 59,
   "metadata": {},
   "outputs": [
    {
     "name": "stdout",
     "output_type": "stream",
     "text": [
      "(423754, 3)\n"
     ]
    }
   ],
   "source": [
    "print(df.shape)"
   ]
  },
  {
   "cell_type": "code",
   "execution_count": 60,
   "metadata": {},
   "outputs": [
    {
     "data": {
      "text/html": [
       "<div>\n",
       "<style scoped>\n",
       "    .dataframe tbody tr th:only-of-type {\n",
       "        vertical-align: middle;\n",
       "    }\n",
       "\n",
       "    .dataframe tbody tr th {\n",
       "        vertical-align: top;\n",
       "    }\n",
       "\n",
       "    .dataframe thead th {\n",
       "        text-align: right;\n",
       "    }\n",
       "</style>\n",
       "<table border=\"1\" class=\"dataframe\">\n",
       "  <thead>\n",
       "    <tr style=\"text-align: right;\">\n",
       "      <th></th>\n",
       "      <th>hiercode</th>\n",
       "      <th>prodcode</th>\n",
       "      <th>description</th>\n",
       "    </tr>\n",
       "  </thead>\n",
       "  <tbody>\n",
       "    <tr>\n",
       "      <th>0</th>\n",
       "      <td>S000065</td>\n",
       "      <td>2000362744275</td>\n",
       "      <td>TTEMP BIPACK BOXER ARROW DESIN BIB319 SURTIDO M</td>\n",
       "    </tr>\n",
       "    <tr>\n",
       "      <th>1</th>\n",
       "      <td>S000065</td>\n",
       "      <td>2000362744794</td>\n",
       "      <td>TTEMP BIPACK BOXER ARROW CLASS BIB329 SURTIDO XL</td>\n",
       "    </tr>\n",
       "    <tr>\n",
       "      <th>2</th>\n",
       "      <td>S000065</td>\n",
       "      <td>2000362744787</td>\n",
       "      <td>TTEMP BIPACK BOXER ARROW CLASS BIB329 SURTIDO L</td>\n",
       "    </tr>\n",
       "    <tr>\n",
       "      <th>3</th>\n",
       "      <td>S000065</td>\n",
       "      <td>2000362744770</td>\n",
       "      <td>TTEMP BIPACK BOXER ARROW CLASS BIB329 SURTIDO M</td>\n",
       "    </tr>\n",
       "    <tr>\n",
       "      <th>4</th>\n",
       "      <td>S000065</td>\n",
       "      <td>2000362744763</td>\n",
       "      <td>TTEMP BIPACK BOXER ARROW CLASS BIB329 SURTIDO S</td>\n",
       "    </tr>\n",
       "  </tbody>\n",
       "</table>\n",
       "</div>"
      ],
      "text/plain": [
       "  hiercode       prodcode                                       description\n",
       "0  S000065  2000362744275   TTEMP BIPACK BOXER ARROW DESIN BIB319 SURTIDO M\n",
       "1  S000065  2000362744794  TTEMP BIPACK BOXER ARROW CLASS BIB329 SURTIDO XL\n",
       "2  S000065  2000362744787   TTEMP BIPACK BOXER ARROW CLASS BIB329 SURTIDO L\n",
       "3  S000065  2000362744770   TTEMP BIPACK BOXER ARROW CLASS BIB329 SURTIDO M\n",
       "4  S000065  2000362744763   TTEMP BIPACK BOXER ARROW CLASS BIB329 SURTIDO S"
      ]
     },
     "execution_count": 60,
     "metadata": {},
     "output_type": "execute_result"
    }
   ],
   "source": [
    "df.head()"
   ]
  },
  {
   "cell_type": "code",
   "execution_count": 66,
   "metadata": {},
   "outputs": [
    {
     "name": "stdout",
     "output_type": "stream",
     "text": [
      "<class 'list'>\n"
     ]
    }
   ],
   "source": [
    "print(type(lst_hiercode))"
   ]
  },
  {
   "cell_type": "code",
   "execution_count": 67,
   "metadata": {},
   "outputs": [
    {
     "name": "stdout",
     "output_type": "stream",
     "text": [
      "[('S000065',), ('S000117',), ('S000146',), ('S000157',), ('S001173',), ('S003028',), ('S003065',), ('S005002',), ('S005034',), ('S015004',), ('S030002',), ('S039004',), ('S500061',), ('S500109',), ('S500134',), ('S500136',), ('S500152',), ('S500173',), ('S500233',), ('S500305',), ('S500358',), ('S500564',), ('S500600',), ('S500618',), ('S500623',), ('S502259',), ('S502716',), ('S502723',), ('S502729',), ('S502736',), ('S521858',), ('S521874',), ('S521890',), ('S521891',), ('S521990',), ('S521991',), ('S522143',), ('S522470',), ('S522477',), ('S522484',), ('S522498',), ('S523574',), ('S523658',), ('S523964',), ('S523974',), ('S523976',), ('S523984',), ('S524335',), ('S524350',), ('S524358',), ('S524508',), ('S524951',), ('S524986',), ('S525433',), ('S525434',), ('S525439',), ('S525440',), ('S525444',), ('S525445',), ('S525450',), ('S526867',), ('S526868',), ('S526982',), ('S526983',), ('S526992',), ('S526996',), ('S526997',), ('S527034',), ('S527036',), ('S527072',), ('S527089',), ('S527111',), ('S527139',), ('S527207',), ('S527221',), ('S527287',), ('S527379',), ('S527983',), ('S527994',), ('S528012',), ('S528023',), ('S528026',), ('S528027',), ('S528029',), ('S528033',), ('S528035',), ('S528036',), ('S528037',), ('S528040',), ('S528042',), ('S528043',), ('S528046',), ('S528047',), ('S528167',), ('S528490',), ('S528616',), ('S528617',), ('S529371',), ('S529648',), ('S529714',), ('S529762',), ('S529786',), ('S529796',), ('S529822',), ('S529856',), ('S529892',), ('S529915',), ('S529922',), ('S530592',), ('S530647',), ('S530824',), ('S530833',)]\n"
     ]
    }
   ],
   "source": [
    "print(lst_hiercode)"
   ]
  },
  {
   "cell_type": "code",
   "execution_count": 77,
   "metadata": {},
   "outputs": [
    {
     "name": "stdout",
     "output_type": "stream",
     "text": [
      "S000065\n"
     ]
    }
   ],
   "source": [
    "print(lst_hiercode[0])"
   ]
  },
  {
   "cell_type": "code",
   "execution_count": 78,
   "metadata": {},
   "outputs": [
    {
     "name": "stdout",
     "output_type": "stream",
     "text": [
      "     hiercode       prodcode                                       description\n",
      "0     S000065  2000362744275   TTEMP BIPACK BOXER ARROW DESIN BIB319 SURTIDO M\n",
      "1     S000065  2000362744794  TTEMP BIPACK BOXER ARROW CLASS BIB329 SURTIDO XL\n",
      "2     S000065  2000362744787   TTEMP BIPACK BOXER ARROW CLASS BIB329 SURTIDO L\n",
      "3     S000065  2000362744770   TTEMP BIPACK BOXER ARROW CLASS BIB329 SURTIDO M\n",
      "4     S000065  2000362744763   TTEMP BIPACK BOXER ARROW CLASS BIB329 SURTIDO S\n",
      "...       ...            ...                                               ...\n",
      "4638  S000065  2000369035246                  TTEMP BOXER  93082 2PACK NEGRO S\n",
      "4639  S000065  2000369035239                  TTEMP BOXER  93082 2PACK ROJO XL\n",
      "4640  S000065  2000369035222                   TTEMP BOXER  93082 2PACK ROJO L\n",
      "4641  S000065  2000369035215                   TTEMP BOXER  93082 2PACK ROJO M\n",
      "4642  S000065  2000369035208                   TTEMP BOXER  93082 2PACK ROJO S\n",
      "\n",
      "[4643 rows x 3 columns]\n"
     ]
    }
   ],
   "source": [
    "dfiltered=df[df.hiercode==lst_hiercode[0]]\n",
    "print(dfiltered)"
   ]
  },
  {
   "cell_type": "code",
   "execution_count": null,
   "metadata": {},
   "outputs": [],
   "source": []
  }
 ],
 "metadata": {
  "kernelspec": {
   "display_name": "Python 3",
   "language": "python",
   "name": "python3"
  },
  "language_info": {
   "codemirror_mode": {
    "name": "ipython",
    "version": 3
   },
   "file_extension": ".py",
   "mimetype": "text/x-python",
   "name": "python",
   "nbconvert_exporter": "python",
   "pygments_lexer": "ipython3",
   "version": "3.8.5"
  }
 },
 "nbformat": 4,
 "nbformat_minor": 4
}
