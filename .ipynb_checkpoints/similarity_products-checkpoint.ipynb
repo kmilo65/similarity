{
 "cells": [
  {
   "cell_type": "code",
   "execution_count": 44,
   "metadata": {},
   "outputs": [],
   "source": [
    "import mysql.connector\n",
    "import pandas as pd\n"
   ]
  },
  {
   "cell_type": "code",
   "execution_count": 45,
   "metadata": {},
   "outputs": [],
   "source": [
    "USER = \"chenriquez\"\n",
    "PASSWORD = \"Chilote64#\"\n",
    "IP = \"localhost\"\n",
    "BD_NAME = \"analitica2\"\n",
    "\n",
    "FULL_PATH_CONNECTION_BD_MYSQL = \"mysql://\" + USER + \":\" + PASSWORD + \"@\" + IP + \"/\" + BD_NAME"
   ]
  },
  {
   "cell_type": "code",
   "execution_count": 46,
   "metadata": {},
   "outputs": [],
   "source": [
    "cnx = mysql.connector.connect(user=USER, \n",
    "                                  password=PASSWORD,\n",
    "                                  host='127.0.0.1',\n",
    "                                  database=BD_NAME,\n",
    "                                  auth_plugin='mysql_native_password')\n",
    "        "
   ]
  },
  {
   "cell_type": "code",
   "execution_count": 47,
   "metadata": {},
   "outputs": [],
   "source": [
    "query=\"select distinct hiercode from rp_main_hiercode_prod_sold\"\n",
    "cursor = cnx.cursor()\n",
    "cursor.execute(query)    \n",
    "lst_hiercode=[item[0] for item in cursor.fetchall()]"
   ]
  },
  {
   "cell_type": "code",
   "execution_count": 48,
   "metadata": {},
   "outputs": [
    {
     "name": "stdout",
     "output_type": "stream",
     "text": [
      "<class 'list'>\n"
     ]
    }
   ],
   "source": [
    "print(type(lst_hiercode))"
   ]
  },
  {
   "cell_type": "code",
   "execution_count": 49,
   "metadata": {},
   "outputs": [
    {
     "name": "stdout",
     "output_type": "stream",
     "text": [
      "['S000065', 'S000117', 'S000146', 'S000157', 'S001173', 'S003028', 'S003065', 'S005002', 'S005034', 'S015004', 'S030002', 'S039004', 'S500061', 'S500109', 'S500134', 'S500136', 'S500152', 'S500173', 'S500233', 'S500305', 'S500358', 'S500564', 'S500600', 'S500618', 'S500623', 'S502259', 'S502716', 'S502723', 'S502729', 'S502736', 'S521858', 'S521874', 'S521890', 'S521891', 'S521990', 'S521991', 'S522143', 'S522470', 'S522477', 'S522484', 'S522498', 'S523574', 'S523658', 'S523964', 'S523974', 'S523976', 'S523984', 'S524335', 'S524350', 'S524358', 'S524508', 'S524951', 'S524986', 'S525433', 'S525434', 'S525439', 'S525440', 'S525444', 'S525445', 'S525450', 'S526867', 'S526868', 'S526982', 'S526983', 'S526992', 'S526996', 'S526997', 'S527034', 'S527036', 'S527072', 'S527089', 'S527111', 'S527139', 'S527207', 'S527221', 'S527287', 'S527379', 'S527983', 'S527994', 'S528012', 'S528023', 'S528026', 'S528027', 'S528029', 'S528033', 'S528035', 'S528036', 'S528037', 'S528040', 'S528042', 'S528043', 'S528046', 'S528047', 'S528167', 'S528490', 'S528616', 'S528617', 'S529371', 'S529648', 'S529714', 'S529762', 'S529786', 'S529796', 'S529822', 'S529856', 'S529892', 'S529915', 'S529922', 'S530592', 'S530647', 'S530824', 'S530833']\n"
     ]
    }
   ],
   "source": [
    "print(lst_hiercode)"
   ]
  },
  {
   "cell_type": "code",
   "execution_count": 50,
   "metadata": {},
   "outputs": [
    {
     "name": "stdout",
     "output_type": "stream",
     "text": [
      "112\n"
     ]
    }
   ],
   "source": [
    "print(len(lst_hiercode))"
   ]
  },
  {
   "cell_type": "code",
   "execution_count": 51,
   "metadata": {},
   "outputs": [],
   "source": [
    "query2='select hiercode,prodcode, concat(season,\" \",description) as description  from rp_main_hiercode_prod_sold'\n",
    "cursor=cnx.cursor()\n",
    "cursor.execute(query2)\n",
    "df=pd.DataFrame(cursor.fetchall())\n",
    "field_names = [i[0] for i in cursor.description]\n",
    "df.columns = field_names"
   ]
  },
  {
   "cell_type": "code",
   "execution_count": 52,
   "metadata": {},
   "outputs": [
    {
     "name": "stdout",
     "output_type": "stream",
     "text": [
      "(423754, 3)\n"
     ]
    }
   ],
   "source": [
    "print(df.shape)"
   ]
  },
  {
   "cell_type": "code",
   "execution_count": 53,
   "metadata": {},
   "outputs": [
    {
     "data": {
      "text/html": [
       "<div>\n",
       "<style scoped>\n",
       "    .dataframe tbody tr th:only-of-type {\n",
       "        vertical-align: middle;\n",
       "    }\n",
       "\n",
       "    .dataframe tbody tr th {\n",
       "        vertical-align: top;\n",
       "    }\n",
       "\n",
       "    .dataframe thead th {\n",
       "        text-align: right;\n",
       "    }\n",
       "</style>\n",
       "<table border=\"1\" class=\"dataframe\">\n",
       "  <thead>\n",
       "    <tr style=\"text-align: right;\">\n",
       "      <th></th>\n",
       "      <th>hiercode</th>\n",
       "      <th>prodcode</th>\n",
       "      <th>description</th>\n",
       "    </tr>\n",
       "  </thead>\n",
       "  <tbody>\n",
       "    <tr>\n",
       "      <th>0</th>\n",
       "      <td>S000065</td>\n",
       "      <td>2000362744275</td>\n",
       "      <td>TTEMP BIPACK BOXER ARROW DESIN BIB319 SURTIDO M</td>\n",
       "    </tr>\n",
       "    <tr>\n",
       "      <th>1</th>\n",
       "      <td>S000065</td>\n",
       "      <td>2000362744794</td>\n",
       "      <td>TTEMP BIPACK BOXER ARROW CLASS BIB329 SURTIDO XL</td>\n",
       "    </tr>\n",
       "    <tr>\n",
       "      <th>2</th>\n",
       "      <td>S000065</td>\n",
       "      <td>2000362744787</td>\n",
       "      <td>TTEMP BIPACK BOXER ARROW CLASS BIB329 SURTIDO L</td>\n",
       "    </tr>\n",
       "    <tr>\n",
       "      <th>3</th>\n",
       "      <td>S000065</td>\n",
       "      <td>2000362744770</td>\n",
       "      <td>TTEMP BIPACK BOXER ARROW CLASS BIB329 SURTIDO M</td>\n",
       "    </tr>\n",
       "    <tr>\n",
       "      <th>4</th>\n",
       "      <td>S000065</td>\n",
       "      <td>2000362744763</td>\n",
       "      <td>TTEMP BIPACK BOXER ARROW CLASS BIB329 SURTIDO S</td>\n",
       "    </tr>\n",
       "  </tbody>\n",
       "</table>\n",
       "</div>"
      ],
      "text/plain": [
       "  hiercode       prodcode                                       description\n",
       "0  S000065  2000362744275   TTEMP BIPACK BOXER ARROW DESIN BIB319 SURTIDO M\n",
       "1  S000065  2000362744794  TTEMP BIPACK BOXER ARROW CLASS BIB329 SURTIDO XL\n",
       "2  S000065  2000362744787   TTEMP BIPACK BOXER ARROW CLASS BIB329 SURTIDO L\n",
       "3  S000065  2000362744770   TTEMP BIPACK BOXER ARROW CLASS BIB329 SURTIDO M\n",
       "4  S000065  2000362744763   TTEMP BIPACK BOXER ARROW CLASS BIB329 SURTIDO S"
      ]
     },
     "execution_count": 53,
     "metadata": {},
     "output_type": "execute_result"
    }
   ],
   "source": [
    "df.head()"
   ]
  },
  {
   "cell_type": "code",
   "execution_count": 54,
   "metadata": {},
   "outputs": [
    {
     "name": "stdout",
     "output_type": "stream",
     "text": [
      "<class 'list'>\n"
     ]
    }
   ],
   "source": [
    "print(type(lst_hiercode))"
   ]
  },
  {
   "cell_type": "code",
   "execution_count": 55,
   "metadata": {},
   "outputs": [
    {
     "name": "stdout",
     "output_type": "stream",
     "text": [
      "['S000065', 'S000117', 'S000146', 'S000157', 'S001173', 'S003028', 'S003065', 'S005002', 'S005034', 'S015004', 'S030002', 'S039004', 'S500061', 'S500109', 'S500134', 'S500136', 'S500152', 'S500173', 'S500233', 'S500305', 'S500358', 'S500564', 'S500600', 'S500618', 'S500623', 'S502259', 'S502716', 'S502723', 'S502729', 'S502736', 'S521858', 'S521874', 'S521890', 'S521891', 'S521990', 'S521991', 'S522143', 'S522470', 'S522477', 'S522484', 'S522498', 'S523574', 'S523658', 'S523964', 'S523974', 'S523976', 'S523984', 'S524335', 'S524350', 'S524358', 'S524508', 'S524951', 'S524986', 'S525433', 'S525434', 'S525439', 'S525440', 'S525444', 'S525445', 'S525450', 'S526867', 'S526868', 'S526982', 'S526983', 'S526992', 'S526996', 'S526997', 'S527034', 'S527036', 'S527072', 'S527089', 'S527111', 'S527139', 'S527207', 'S527221', 'S527287', 'S527379', 'S527983', 'S527994', 'S528012', 'S528023', 'S528026', 'S528027', 'S528029', 'S528033', 'S528035', 'S528036', 'S528037', 'S528040', 'S528042', 'S528043', 'S528046', 'S528047', 'S528167', 'S528490', 'S528616', 'S528617', 'S529371', 'S529648', 'S529714', 'S529762', 'S529786', 'S529796', 'S529822', 'S529856', 'S529892', 'S529915', 'S529922', 'S530592', 'S530647', 'S530824', 'S530833']\n"
     ]
    }
   ],
   "source": [
    "print(lst_hiercode)"
   ]
  },
  {
   "cell_type": "code",
   "execution_count": 56,
   "metadata": {},
   "outputs": [
    {
     "name": "stdout",
     "output_type": "stream",
     "text": [
      "S000065\n"
     ]
    }
   ],
   "source": [
    "print(lst_hiercode[0])"
   ]
  },
  {
   "cell_type": "code",
   "execution_count": 57,
   "metadata": {},
   "outputs": [
    {
     "name": "stdout",
     "output_type": "stream",
     "text": [
      "(4643, 2)\n"
     ]
    }
   ],
   "source": [
    "hiercode=lst_hiercode[0]\n",
    "dfiltered=df[df.hiercode==hiercode]\n",
    "dfiltered=dfiltered[['prodcode','description']]\n",
    "\n",
    "print(dfiltered.shape)"
   ]
  },
  {
   "cell_type": "code",
   "execution_count": 58,
   "metadata": {},
   "outputs": [],
   "source": [
    "from sklearn.feature_extraction.text import TfidfVectorizer"
   ]
  },
  {
   "cell_type": "code",
   "execution_count": 59,
   "metadata": {},
   "outputs": [],
   "source": [
    "tf = TfidfVectorizer(analyzer='word', ngram_range=(1, 3), min_df=0, stop_words='english')"
   ]
  },
  {
   "cell_type": "code",
   "execution_count": 60,
   "metadata": {},
   "outputs": [],
   "source": [
    "matrix = tf.fit_transform(dfiltered['description'])"
   ]
  },
  {
   "cell_type": "code",
   "execution_count": 61,
   "metadata": {},
   "outputs": [
    {
     "name": "stdout",
     "output_type": "stream",
     "text": [
      "(4643, 7160)\n"
     ]
    }
   ],
   "source": [
    "print(matrix.shape)"
   ]
  },
  {
   "cell_type": "code",
   "execution_count": 62,
   "metadata": {},
   "outputs": [],
   "source": [
    "from sklearn.metrics.pairwise import linear_kernel\n",
    "\n",
    "cosine_similarities = linear_kernel(matrix,matrix)"
   ]
  },
  {
   "cell_type": "code",
   "execution_count": 63,
   "metadata": {},
   "outputs": [
    {
     "data": {
      "text/plain": [
       "numpy.ndarray"
      ]
     },
     "execution_count": 63,
     "metadata": {},
     "output_type": "execute_result"
    }
   ],
   "source": [
    "type(cosine_similarities) "
   ]
  },
  {
   "cell_type": "code",
   "execution_count": 64,
   "metadata": {},
   "outputs": [
    {
     "name": "stdout",
     "output_type": "stream",
     "text": [
      "(4643, 4643)\n"
     ]
    }
   ],
   "source": [
    "print(cosine_similarities.shape)"
   ]
  },
  {
   "cell_type": "code",
   "execution_count": 65,
   "metadata": {},
   "outputs": [
    {
     "data": {
      "text/plain": [
       "0.907799853902843"
      ]
     },
     "execution_count": 65,
     "metadata": {},
     "output_type": "execute_result"
    }
   ],
   "source": [
    "cosine_similarities[1][3]"
   ]
  },
  {
   "cell_type": "code",
   "execution_count": 66,
   "metadata": {},
   "outputs": [],
   "source": [
    "dfiltered.index = pd.RangeIndex(len(dfiltered.index))"
   ]
  },
  {
   "cell_type": "code",
   "execution_count": 67,
   "metadata": {},
   "outputs": [
    {
     "data": {
      "text/plain": [
       "0.907799853902843"
      ]
     },
     "execution_count": 67,
     "metadata": {},
     "output_type": "execute_result"
    }
   ],
   "source": [
    "cosine_similarities[3][1]"
   ]
  },
  {
   "cell_type": "code",
   "execution_count": 68,
   "metadata": {},
   "outputs": [],
   "source": [
    "#indices = pd.Series(dfiltered['prodcode'], index=dfiltered.index)\n",
    "indices = pd.Series(dfiltered.index, index=dfiltered['prodcode'])"
   ]
  },
  {
   "cell_type": "code",
   "execution_count": 69,
   "metadata": {},
   "outputs": [
    {
     "data": {
      "text/plain": [
       "prodcode\n",
       "2000362744275       0\n",
       "2000362744794       1\n",
       "2000362744787       2\n",
       "2000362744770       3\n",
       "2000362744763       4\n",
       "                 ... \n",
       "2000369035246    4638\n",
       "2000369035239    4639\n",
       "2000369035222    4640\n",
       "2000369035215    4641\n",
       "2000369035208    4642\n",
       "Length: 4643, dtype: int64"
      ]
     },
     "execution_count": 69,
     "metadata": {},
     "output_type": "execute_result"
    }
   ],
   "source": [
    "indices"
   ]
  },
  {
   "cell_type": "code",
   "execution_count": 70,
   "metadata": {},
   "outputs": [
    {
     "data": {
      "text/plain": [
       "array([1.        , 0.14082434, 0.15512708, ..., 0.00861866, 0.00861866,\n",
       "       0.00861866])"
      ]
     },
     "execution_count": 70,
     "metadata": {},
     "output_type": "execute_result"
    }
   ],
   "source": [
    "cosine_similarities[0]"
   ]
  },
  {
   "cell_type": "code",
   "execution_count": 40,
   "metadata": {},
   "outputs": [],
   "source": [
    "f=list(filter(lambda x: x>=0.5,cosine_similarities[0]))"
   ]
  },
  {
   "cell_type": "code",
   "execution_count": 41,
   "metadata": {},
   "outputs": [
    {
     "name": "stdout",
     "output_type": "stream",
     "text": [
      "[0.9999999999999996]\n"
     ]
    }
   ],
   "source": [
    "print(f)"
   ]
  },
  {
   "cell_type": "code",
   "execution_count": 309,
   "metadata": {},
   "outputs": [
    {
     "name": "stdout",
     "output_type": "stream",
     "text": [
      "1\n"
     ]
    }
   ],
   "source": [
    "print(indices['2000343636872'])"
   ]
  },
  {
   "cell_type": "code",
   "execution_count": null,
   "metadata": {},
   "outputs": [],
   "source": []
  },
  {
   "cell_type": "code",
   "execution_count": null,
   "metadata": {},
   "outputs": [],
   "source": []
  },
  {
   "cell_type": "code",
   "execution_count": null,
   "metadata": {},
   "outputs": [],
   "source": []
  },
  {
   "cell_type": "code",
   "execution_count": null,
   "metadata": {},
   "outputs": [],
   "source": []
  },
  {
   "cell_type": "code",
   "execution_count": null,
   "metadata": {},
   "outputs": [],
   "source": []
  },
  {
   "cell_type": "code",
   "execution_count": null,
   "metadata": {},
   "outputs": [],
   "source": []
  },
  {
   "cell_type": "code",
   "execution_count": null,
   "metadata": {},
   "outputs": [],
   "source": [
    "def movie_recommend(prodcode):\n",
    "\n",
    "    idx = indices[prodcode]\n",
    "\n",
    "    sim_scores = list(enumerate(cosine_similarities[idx]))\n",
    "\n",
    "    sim_scores = sorted(sim_scores, key=lambda x: x[1], reverse=True)\n",
    "\n",
    "    sim_scores = sim_scores[1:31]\n",
    "\n",
    "    movie_indices = [i[0] for i in sim_scores]\n",
    "\n",
    "    return movie_title.iloc[movie_indices]"
   ]
  },
  {
   "cell_type": "code",
   "execution_count": 284,
   "metadata": {},
   "outputs": [],
   "source": [
    "idx = indices['2000343636575']"
   ]
  },
  {
   "cell_type": "code",
   "execution_count": 285,
   "metadata": {},
   "outputs": [
    {
     "name": "stdout",
     "output_type": "stream",
     "text": [
      "2\n"
     ]
    }
   ],
   "source": [
    "print(idx)"
   ]
  },
  {
   "cell_type": "code",
   "execution_count": 286,
   "metadata": {},
   "outputs": [],
   "source": [
    "prod_idx='2000343636575'"
   ]
  },
  {
   "cell_type": "code",
   "execution_count": 287,
   "metadata": {},
   "outputs": [
    {
     "data": {
      "text/plain": [
       "1"
      ]
     },
     "execution_count": 287,
     "metadata": {},
     "output_type": "execute_result"
    }
   ],
   "source": [
    "indices[1]"
   ]
  },
  {
   "cell_type": "code",
   "execution_count": 288,
   "metadata": {},
   "outputs": [
    {
     "name": "stdout",
     "output_type": "stream",
     "text": [
      "<class 'pandas.core.series.Series'>\n"
     ]
    }
   ],
   "source": [
    "print(type(indices))"
   ]
  },
  {
   "cell_type": "code",
   "execution_count": 289,
   "metadata": {},
   "outputs": [],
   "source": [
    "sim_scores = list(enumerate(cosine_similarities[idx]))"
   ]
  },
  {
   "cell_type": "code",
   "execution_count": 290,
   "metadata": {},
   "outputs": [
    {
     "name": "stdout",
     "output_type": "stream",
     "text": [
      "107\n"
     ]
    }
   ],
   "source": [
    "print(len(sim_scores))"
   ]
  },
  {
   "cell_type": "code",
   "execution_count": 291,
   "metadata": {},
   "outputs": [
    {
     "name": "stdout",
     "output_type": "stream",
     "text": [
      "<class 'list'>\n"
     ]
    }
   ],
   "source": [
    "print(type(sim_scores))"
   ]
  },
  {
   "cell_type": "code",
   "execution_count": 292,
   "metadata": {},
   "outputs": [],
   "source": [
    "hiercode='S000157'"
   ]
  },
  {
   "cell_type": "code",
   "execution_count": 293,
   "metadata": {},
   "outputs": [],
   "source": [
    "list_sim_scores=[list(element) for element in sim_scores]"
   ]
  },
  {
   "cell_type": "code",
   "execution_count": 294,
   "metadata": {},
   "outputs": [
    {
     "name": "stdout",
     "output_type": "stream",
     "text": [
      "[[0, 0.012297345557526537], [1, 0.010721876416236219], [2, 1.0000000000000007], [3, 0.057461129341389854], [4, 0.1513140302113401], [5, 0.07573643060143292], [6, 0.018008281273201164], [7, 0.00645775193715427], [8, 0.006327952406715415], [9, 0.27681508354089807], [10, 0.5786426897908564], [11, 0.004759987033472663], [12, 0.004094659652000909], [13, 0.4802160680460384], [14, 0.4802160680460384], [15, 0.02007959176940726], [16, 0.004141718511828712], [17, 0.03778116472526446], [18, 0.01696990333170463], [19, 0.01638644870299066], [20, 0.020364393496164312], [21, 0.014764522437948362], [22, 0.003443353888343892], [23, 0.00475136083945042], [24, 0.006738224931173459], [25, 0.06795058508926546], [26, 0.014313703777089456], [27, 0.004716665539603445], [28, 0.24392312365813246], [29, 0.24501155430232535], [30, 0.24249562345547326], [31, 0.004611338587091127], [32, 0.004220129052964187], [33, 0.003423244164825521], [34, 0.02274912181797164], [35, 0.024019665043060617], [36, 0.0047831380447434825], [37, 0.0036344415368097286], [38, 0.03827554768183087], [39, 0.08117135394790283], [40, 0.0036108181960699502], [41, 0.00351958828795306], [42, 0.00428706033287993], [43, 0.005928662241831224], [44, 0.003037220514183481], [45, 0.013408722821019], [46, 0.018636200523983786], [47, 0.014313703777089458], [48, 0.01597846305961903], [49, 0.07974617492406513], [50, 0.01638907019998491], [51, 0.0031893056763264123], [52, 0.007010126511657273], [53, 0.0031710978901880104], [54, 0.0032137071403660826], [55, 0.003596358102935108], [56, 0.02125128432346866], [57, 0.0032801049472398524], [58, 0.026376664459071563], [59, 0.015312134887340609], [60, 0.004007889019644356], [61, 0.021212307358802564], [62, 0.005995637003311879], [63, 0.0741074280574988], [64, 0.015083685110306538], [65, 0.01662318530513141], [66, 0.004464996870165471], [67, 0.004169790093376854], [68, 0.003989520657415171], [69, 0.007010126511657273], [70, 0.0034727813198153937], [71, 0.04936499024679286], [72, 0.003182349995340238], [73, 0.0037341024421220113], [74, 0.003305349044617327], [75, 0.04936499024679286], [76, 0.0036960264957343033], [77, 0.03064918768775372], [78, 0.10715854436920763], [79, 0.003130557791279562], [80, 0.016000788749897847], [81, 0.006284409031786799], [82, 0.004804231653478148], [83, 0.022339969868114182], [84, 0.004716665539603445], [85, 0.005799592787975533], [86, 0.01643893951405765], [87, 0.00439397620168828], [88, 0.2911489736828813], [89, 0.11298916488060752], [90, 0.003241034269707238], [91, 0.0037560621911065777], [92, 0.17403635086503852], [93, 0.004948159856466153], [94, 0.01430388264076784], [95, 0.003529475413384997], [96, 0.004615718218275771], [97, 0.0035039373662502254], [98, 0.003463017810747053], [99, 0.004834366992458489], [100, 0.003002093416191886], [101, 0.21161960312597136], [102, 0.00519661786181076], [103, 0.016766445107149457], [104, 0.017310977414464655], [105, 0.01597846305961903], [106, 0.01619778326993294]]\n"
     ]
    }
   ],
   "source": [
    "print(list_sim_scores)"
   ]
  },
  {
   "cell_type": "code",
   "execution_count": 295,
   "metadata": {},
   "outputs": [
    {
     "data": {
      "text/plain": [
       "2"
      ]
     },
     "execution_count": 295,
     "metadata": {},
     "output_type": "execute_result"
    }
   ],
   "source": [
    "idx"
   ]
  },
  {
   "cell_type": "code",
   "execution_count": null,
   "metadata": {},
   "outputs": [],
   "source": []
  },
  {
   "cell_type": "code",
   "execution_count": 296,
   "metadata": {},
   "outputs": [],
   "source": [
    "list_sim_scores_filtered=filter(lambda x: x[0]!=idx,list_sim_scores)"
   ]
  },
  {
   "cell_type": "code",
   "execution_count": 297,
   "metadata": {},
   "outputs": [
    {
     "name": "stdout",
     "output_type": "stream",
     "text": [
      "[[0, 0.012297345557526537], [1, 0.010721876416236219], [3, 0.057461129341389854], [4, 0.1513140302113401], [5, 0.07573643060143292], [6, 0.018008281273201164], [7, 0.00645775193715427], [8, 0.006327952406715415], [9, 0.27681508354089807], [10, 0.5786426897908564], [11, 0.004759987033472663], [12, 0.004094659652000909], [13, 0.4802160680460384], [14, 0.4802160680460384], [15, 0.02007959176940726], [16, 0.004141718511828712], [17, 0.03778116472526446], [18, 0.01696990333170463], [19, 0.01638644870299066], [20, 0.020364393496164312], [21, 0.014764522437948362], [22, 0.003443353888343892], [23, 0.00475136083945042], [24, 0.006738224931173459], [25, 0.06795058508926546], [26, 0.014313703777089456], [27, 0.004716665539603445], [28, 0.24392312365813246], [29, 0.24501155430232535], [30, 0.24249562345547326], [31, 0.004611338587091127], [32, 0.004220129052964187], [33, 0.003423244164825521], [34, 0.02274912181797164], [35, 0.024019665043060617], [36, 0.0047831380447434825], [37, 0.0036344415368097286], [38, 0.03827554768183087], [39, 0.08117135394790283], [40, 0.0036108181960699502], [41, 0.00351958828795306], [42, 0.00428706033287993], [43, 0.005928662241831224], [44, 0.003037220514183481], [45, 0.013408722821019], [46, 0.018636200523983786], [47, 0.014313703777089458], [48, 0.01597846305961903], [49, 0.07974617492406513], [50, 0.01638907019998491], [51, 0.0031893056763264123], [52, 0.007010126511657273], [53, 0.0031710978901880104], [54, 0.0032137071403660826], [55, 0.003596358102935108], [56, 0.02125128432346866], [57, 0.0032801049472398524], [58, 0.026376664459071563], [59, 0.015312134887340609], [60, 0.004007889019644356], [61, 0.021212307358802564], [62, 0.005995637003311879], [63, 0.0741074280574988], [64, 0.015083685110306538], [65, 0.01662318530513141], [66, 0.004464996870165471], [67, 0.004169790093376854], [68, 0.003989520657415171], [69, 0.007010126511657273], [70, 0.0034727813198153937], [71, 0.04936499024679286], [72, 0.003182349995340238], [73, 0.0037341024421220113], [74, 0.003305349044617327], [75, 0.04936499024679286], [76, 0.0036960264957343033], [77, 0.03064918768775372], [78, 0.10715854436920763], [79, 0.003130557791279562], [80, 0.016000788749897847], [81, 0.006284409031786799], [82, 0.004804231653478148], [83, 0.022339969868114182], [84, 0.004716665539603445], [85, 0.005799592787975533], [86, 0.01643893951405765], [87, 0.00439397620168828], [88, 0.2911489736828813], [89, 0.11298916488060752], [90, 0.003241034269707238], [91, 0.0037560621911065777], [92, 0.17403635086503852], [93, 0.004948159856466153], [94, 0.01430388264076784], [95, 0.003529475413384997], [96, 0.004615718218275771], [97, 0.0035039373662502254], [98, 0.003463017810747053], [99, 0.004834366992458489], [100, 0.003002093416191886], [101, 0.21161960312597136], [102, 0.00519661786181076], [103, 0.016766445107149457], [104, 0.017310977414464655], [105, 0.01597846305961903], [106, 0.01619778326993294]]\n"
     ]
    }
   ],
   "source": [
    "print(list(list_sim_scores_filtered))"
   ]
  },
  {
   "cell_type": "code",
   "execution_count": null,
   "metadata": {},
   "outputs": [],
   "source": []
  },
  {
   "cell_type": "code",
   "execution_count": 298,
   "metadata": {},
   "outputs": [],
   "source": [
    "#sim_scores_list=[[prodcode,indices.iloc[[list(element)[0]]], list(element)[1]] for element in sim_scores]"
   ]
  },
  {
   "cell_type": "code",
   "execution_count": 299,
   "metadata": {},
   "outputs": [],
   "source": [
    "list_sim_scores_filtered=list(filter(lambda x: x[0]!=idx,[list(element) for element in sim_scores]))"
   ]
  },
  {
   "cell_type": "code",
   "execution_count": 300,
   "metadata": {},
   "outputs": [
    {
     "name": "stdout",
     "output_type": "stream",
     "text": [
      "[[0, 0.012297345557526537], [1, 0.010721876416236219], [3, 0.057461129341389854], [4, 0.1513140302113401], [5, 0.07573643060143292], [6, 0.018008281273201164], [7, 0.00645775193715427], [8, 0.006327952406715415], [9, 0.27681508354089807], [10, 0.5786426897908564], [11, 0.004759987033472663], [12, 0.004094659652000909], [13, 0.4802160680460384], [14, 0.4802160680460384], [15, 0.02007959176940726], [16, 0.004141718511828712], [17, 0.03778116472526446], [18, 0.01696990333170463], [19, 0.01638644870299066], [20, 0.020364393496164312], [21, 0.014764522437948362], [22, 0.003443353888343892], [23, 0.00475136083945042], [24, 0.006738224931173459], [25, 0.06795058508926546], [26, 0.014313703777089456], [27, 0.004716665539603445], [28, 0.24392312365813246], [29, 0.24501155430232535], [30, 0.24249562345547326], [31, 0.004611338587091127], [32, 0.004220129052964187], [33, 0.003423244164825521], [34, 0.02274912181797164], [35, 0.024019665043060617], [36, 0.0047831380447434825], [37, 0.0036344415368097286], [38, 0.03827554768183087], [39, 0.08117135394790283], [40, 0.0036108181960699502], [41, 0.00351958828795306], [42, 0.00428706033287993], [43, 0.005928662241831224], [44, 0.003037220514183481], [45, 0.013408722821019], [46, 0.018636200523983786], [47, 0.014313703777089458], [48, 0.01597846305961903], [49, 0.07974617492406513], [50, 0.01638907019998491], [51, 0.0031893056763264123], [52, 0.007010126511657273], [53, 0.0031710978901880104], [54, 0.0032137071403660826], [55, 0.003596358102935108], [56, 0.02125128432346866], [57, 0.0032801049472398524], [58, 0.026376664459071563], [59, 0.015312134887340609], [60, 0.004007889019644356], [61, 0.021212307358802564], [62, 0.005995637003311879], [63, 0.0741074280574988], [64, 0.015083685110306538], [65, 0.01662318530513141], [66, 0.004464996870165471], [67, 0.004169790093376854], [68, 0.003989520657415171], [69, 0.007010126511657273], [70, 0.0034727813198153937], [71, 0.04936499024679286], [72, 0.003182349995340238], [73, 0.0037341024421220113], [74, 0.003305349044617327], [75, 0.04936499024679286], [76, 0.0036960264957343033], [77, 0.03064918768775372], [78, 0.10715854436920763], [79, 0.003130557791279562], [80, 0.016000788749897847], [81, 0.006284409031786799], [82, 0.004804231653478148], [83, 0.022339969868114182], [84, 0.004716665539603445], [85, 0.005799592787975533], [86, 0.01643893951405765], [87, 0.00439397620168828], [88, 0.2911489736828813], [89, 0.11298916488060752], [90, 0.003241034269707238], [91, 0.0037560621911065777], [92, 0.17403635086503852], [93, 0.004948159856466153], [94, 0.01430388264076784], [95, 0.003529475413384997], [96, 0.004615718218275771], [97, 0.0035039373662502254], [98, 0.003463017810747053], [99, 0.004834366992458489], [100, 0.003002093416191886], [101, 0.21161960312597136], [102, 0.00519661786181076], [103, 0.016766445107149457], [104, 0.017310977414464655], [105, 0.01597846305961903], [106, 0.01619778326993294]]\n"
     ]
    }
   ],
   "source": [
    "print(list_sim_scores_filtered)"
   ]
  },
  {
   "cell_type": "code",
   "execution_count": 301,
   "metadata": {},
   "outputs": [],
   "source": [
    "sim_scores_list=[  [hiercode,\n",
    "                    prod_idx,\n",
    "                    indices[indices == list(element)[0]].index[0],\n",
    "                    list(element)[1]] for element in list_sim_scores_filtered]"
   ]
  },
  {
   "cell_type": "code",
   "execution_count": 302,
   "metadata": {},
   "outputs": [],
   "source": [
    "sim_scores_list_filtered=list(filter(lambda x:x[3]>=0.5,sim_scores_list))"
   ]
  },
  {
   "cell_type": "code",
   "execution_count": 303,
   "metadata": {},
   "outputs": [
    {
     "data": {
      "text/plain": [
       "[['S000157', '2000343636575', '2000344429091', 0.5786426897908564]]"
      ]
     },
     "execution_count": 303,
     "metadata": {},
     "output_type": "execute_result"
    }
   ],
   "source": [
    "sim_scores_list_filtered"
   ]
  },
  {
   "cell_type": "code",
   "execution_count": 304,
   "metadata": {},
   "outputs": [],
   "source": [
    "df = pd.DataFrame(sim_scores_list_filtered)"
   ]
  },
  {
   "cell_type": "code",
   "execution_count": 305,
   "metadata": {},
   "outputs": [],
   "source": [
    "df.columns=['hiercode','prodcode','prodcode_rel','sim_idx']"
   ]
  },
  {
   "cell_type": "code",
   "execution_count": 306,
   "metadata": {},
   "outputs": [
    {
     "name": "stdout",
     "output_type": "stream",
     "text": [
      "  hiercode       prodcode   prodcode_rel   sim_idx\n",
      "0  S000157  2000343636575  2000344429091  0.578643\n"
     ]
    }
   ],
   "source": [
    "print(df)"
   ]
  },
  {
   "cell_type": "code",
   "execution_count": null,
   "metadata": {},
   "outputs": [],
   "source": []
  }
 ],
 "metadata": {
  "kernelspec": {
   "display_name": "Python 3",
   "language": "python",
   "name": "python3"
  },
  "language_info": {
   "codemirror_mode": {
    "name": "ipython",
    "version": 3
   },
   "file_extension": ".py",
   "mimetype": "text/x-python",
   "name": "python",
   "nbconvert_exporter": "python",
   "pygments_lexer": "ipython3",
   "version": "3.8.5"
  }
 },
 "nbformat": 4,
 "nbformat_minor": 4
}
