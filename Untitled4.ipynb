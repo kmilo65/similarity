{
 "cells": [
  {
   "cell_type": "code",
   "execution_count": 3,
   "metadata": {},
   "outputs": [],
   "source": [
    "import mysql.connector\n",
    "import pandas as pd\n",
    "from sklearn.feature_extraction.text import TfidfVectorizer\n",
    "from sklearn.metrics.pairwise import linear_kernel"
   ]
  },
  {
   "cell_type": "code",
   "execution_count": 4,
   "metadata": {},
   "outputs": [],
   "source": [
    "USER = \"chenriquez\"\n",
    "PASSWORD = \"Chilote64#\"\n",
    "IP = \"localhost\"\n",
    "BD_NAME = \"analitica2\""
   ]
  },
  {
   "cell_type": "code",
   "execution_count": 5,
   "metadata": {},
   "outputs": [],
   "source": [
    "cnx = mysql.connector.connect(user=USER, \n",
    "                                  password=PASSWORD,\n",
    "                                  host='127.0.0.1',\n",
    "                                  database=BD_NAME,\n",
    "                                  auth_plugin='mysql_native_password')"
   ]
  },
  {
   "cell_type": "code",
   "execution_count": 6,
   "metadata": {},
   "outputs": [],
   "source": [
    "query=\"select distinct hiercode from rp_main_hiercode_prod_sold\"\n",
    "cursor = cnx.cursor()\n",
    "cursor.execute(query)    \n",
    "lst_hiercode=[item[0] for item in cursor.fetchall()]"
   ]
  },
  {
   "cell_type": "code",
   "execution_count": 7,
   "metadata": {},
   "outputs": [],
   "source": [
    "query2='select hiercode,prodcode, concat(season,\" \",description) as description  from rp_main_hiercode_prod_sold'\n",
    "cursor=cnx.cursor()\n",
    "cursor.execute(query2)\n",
    "df_input=pd.DataFrame(cursor.fetchall())\n",
    "field_names = [i[0] for i in cursor.description]\n",
    "df_input.columns = field_names"
   ]
  },
  {
   "cell_type": "code",
   "execution_count": 8,
   "metadata": {},
   "outputs": [],
   "source": [
    "def get_matrix(dfiltered):\n",
    "    tf = TfidfVectorizer(analyzer='word', ngram_range=(1, 3), min_df=0, stop_words='english')\n",
    "    matrix = tf.fit_transform(dfiltered['description'])\n",
    "    return linear_kernel(matrix,matrix) "
   ]
  },
  {
   "cell_type": "code",
   "execution_count": 9,
   "metadata": {},
   "outputs": [],
   "source": [
    "def get_idx(dfiltered):\n",
    "    dfiltered.index = pd.RangeIndex(len(dfiltered.index))\n",
    "    return pd.Series(dfiltered.index, index=dfiltered['prodcode'])"
   ]
  },
  {
   "cell_type": "code",
   "execution_count": null,
   "metadata": {},
   "outputs": [],
   "source": []
  },
  {
   "cell_type": "code",
   "execution_count": 10,
   "metadata": {},
   "outputs": [],
   "source": [
    "hiercode='S523574'"
   ]
  },
  {
   "cell_type": "code",
   "execution_count": 11,
   "metadata": {},
   "outputs": [],
   "source": [
    "dfiltered=df_input[df_input.hiercode==hiercode]\n",
    "dfiltered=dfiltered[['prodcode','description']]"
   ]
  },
  {
   "cell_type": "code",
   "execution_count": null,
   "metadata": {},
   "outputs": [],
   "source": []
  }
 ],
 "metadata": {
  "kernelspec": {
   "display_name": "Python 3",
   "language": "python",
   "name": "python3"
  },
  "language_info": {
   "codemirror_mode": {
    "name": "ipython",
    "version": 3
   },
   "file_extension": ".py",
   "mimetype": "text/x-python",
   "name": "python",
   "nbconvert_exporter": "python",
   "pygments_lexer": "ipython3",
   "version": "3.8.5"
  }
 },
 "nbformat": 4,
 "nbformat_minor": 4
}
