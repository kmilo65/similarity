{
 "cells": [
  {
   "cell_type": "code",
   "execution_count": 73,
   "metadata": {},
   "outputs": [],
   "source": [
    "import mysql.connector\n",
    "import pandas as pd\n"
   ]
  },
  {
   "cell_type": "code",
   "execution_count": 74,
   "metadata": {},
   "outputs": [],
   "source": [
    "USER = \"chenriquez\"\n",
    "PASSWORD = \"Chilote64#\"\n",
    "IP = \"localhost\"\n",
    "BD_NAME = \"analitica2\"\n",
    "\n",
    "FULL_PATH_CONNECTION_BD_MYSQL = \"mysql://\" + USER + \":\" + PASSWORD + \"@\" + IP + \"/\" + BD_NAME"
   ]
  },
  {
   "cell_type": "code",
   "execution_count": 75,
   "metadata": {},
   "outputs": [],
   "source": [
    "cnx = mysql.connector.connect(user=USER, \n",
    "                                  password=PASSWORD,\n",
    "                                  host='127.0.0.1',\n",
    "                                  database=BD_NAME,\n",
    "                                  auth_plugin='mysql_native_password')\n",
    "        "
   ]
  },
  {
   "cell_type": "code",
   "execution_count": 76,
   "metadata": {},
   "outputs": [],
   "source": [
    "query=\"select distinct hiercode from rp_main_hiercode_prod_sold\"\n",
    "cursor = cnx.cursor()\n",
    "cursor.execute(query)    \n",
    "lst_hiercode=[item[0] for item in cursor.fetchall()]"
   ]
  },
  {
   "cell_type": "code",
   "execution_count": 77,
   "metadata": {},
   "outputs": [
    {
     "name": "stdout",
     "output_type": "stream",
     "text": [
      "<class 'list'>\n"
     ]
    }
   ],
   "source": [
    "print(type(lst_hiercode))"
   ]
  },
  {
   "cell_type": "code",
   "execution_count": 78,
   "metadata": {},
   "outputs": [
    {
     "name": "stdout",
     "output_type": "stream",
     "text": [
      "['S000065', 'S000117', 'S000146', 'S000157', 'S001173', 'S003028', 'S003065', 'S005002', 'S005034', 'S015004', 'S030002', 'S039004', 'S500061', 'S500109', 'S500134', 'S500136', 'S500152', 'S500173', 'S500233', 'S500305', 'S500358', 'S500564', 'S500600', 'S500618', 'S500623', 'S502259', 'S502716', 'S502723', 'S502729', 'S502736', 'S521858', 'S521874', 'S521890', 'S521891', 'S521990', 'S521991', 'S522143', 'S522470', 'S522477', 'S522484', 'S522498', 'S523574', 'S523658', 'S523964', 'S523974', 'S523976', 'S523984', 'S524335', 'S524350', 'S524358', 'S524508', 'S524951', 'S524986', 'S525433', 'S525434', 'S525439', 'S525440', 'S525444', 'S525445', 'S525450', 'S526867', 'S526868', 'S526982', 'S526983', 'S526992', 'S526996', 'S526997', 'S527034', 'S527036', 'S527072', 'S527089', 'S527111', 'S527139', 'S527207', 'S527221', 'S527287', 'S527379', 'S527983', 'S527994', 'S528012', 'S528023', 'S528026', 'S528027', 'S528029', 'S528033', 'S528035', 'S528036', 'S528037', 'S528040', 'S528042', 'S528043', 'S528046', 'S528047', 'S528167', 'S528490', 'S528616', 'S528617', 'S529371', 'S529648', 'S529714', 'S529762', 'S529786', 'S529796', 'S529822', 'S529856', 'S529892', 'S529915', 'S529922', 'S530592', 'S530647', 'S530824', 'S530833']\n"
     ]
    }
   ],
   "source": [
    "print(lst_hiercode)"
   ]
  },
  {
   "cell_type": "code",
   "execution_count": 79,
   "metadata": {},
   "outputs": [
    {
     "name": "stdout",
     "output_type": "stream",
     "text": [
      "112\n"
     ]
    }
   ],
   "source": [
    "print(len(lst_hiercode))"
   ]
  },
  {
   "cell_type": "code",
   "execution_count": 80,
   "metadata": {},
   "outputs": [],
   "source": [
    "query2='select hiercode,prodcode, concat(season,\" \",description) as description  from rp_main_hiercode_prod_sold'\n",
    "cursor=cnx.cursor()\n",
    "cursor.execute(query2)\n",
    "df=pd.DataFrame(cursor.fetchall())\n",
    "field_names = [i[0] for i in cursor.description]\n",
    "df.columns = field_names"
   ]
  },
  {
   "cell_type": "code",
   "execution_count": 52,
   "metadata": {},
   "outputs": [
    {
     "name": "stdout",
     "output_type": "stream",
     "text": [
      "(423754, 3)\n"
     ]
    }
   ],
   "source": [
    "print(df.shape)"
   ]
  },
  {
   "cell_type": "code",
   "execution_count": 53,
   "metadata": {},
   "outputs": [
    {
     "data": {
      "text/html": [
       "<div>\n",
       "<style scoped>\n",
       "    .dataframe tbody tr th:only-of-type {\n",
       "        vertical-align: middle;\n",
       "    }\n",
       "\n",
       "    .dataframe tbody tr th {\n",
       "        vertical-align: top;\n",
       "    }\n",
       "\n",
       "    .dataframe thead th {\n",
       "        text-align: right;\n",
       "    }\n",
       "</style>\n",
       "<table border=\"1\" class=\"dataframe\">\n",
       "  <thead>\n",
       "    <tr style=\"text-align: right;\">\n",
       "      <th></th>\n",
       "      <th>hiercode</th>\n",
       "      <th>prodcode</th>\n",
       "      <th>description</th>\n",
       "    </tr>\n",
       "  </thead>\n",
       "  <tbody>\n",
       "    <tr>\n",
       "      <th>0</th>\n",
       "      <td>S000065</td>\n",
       "      <td>2000362744275</td>\n",
       "      <td>TTEMP BIPACK BOXER ARROW DESIN BIB319 SURTIDO M</td>\n",
       "    </tr>\n",
       "    <tr>\n",
       "      <th>1</th>\n",
       "      <td>S000065</td>\n",
       "      <td>2000362744794</td>\n",
       "      <td>TTEMP BIPACK BOXER ARROW CLASS BIB329 SURTIDO XL</td>\n",
       "    </tr>\n",
       "    <tr>\n",
       "      <th>2</th>\n",
       "      <td>S000065</td>\n",
       "      <td>2000362744787</td>\n",
       "      <td>TTEMP BIPACK BOXER ARROW CLASS BIB329 SURTIDO L</td>\n",
       "    </tr>\n",
       "    <tr>\n",
       "      <th>3</th>\n",
       "      <td>S000065</td>\n",
       "      <td>2000362744770</td>\n",
       "      <td>TTEMP BIPACK BOXER ARROW CLASS BIB329 SURTIDO M</td>\n",
       "    </tr>\n",
       "    <tr>\n",
       "      <th>4</th>\n",
       "      <td>S000065</td>\n",
       "      <td>2000362744763</td>\n",
       "      <td>TTEMP BIPACK BOXER ARROW CLASS BIB329 SURTIDO S</td>\n",
       "    </tr>\n",
       "  </tbody>\n",
       "</table>\n",
       "</div>"
      ],
      "text/plain": [
       "  hiercode       prodcode                                       description\n",
       "0  S000065  2000362744275   TTEMP BIPACK BOXER ARROW DESIN BIB319 SURTIDO M\n",
       "1  S000065  2000362744794  TTEMP BIPACK BOXER ARROW CLASS BIB329 SURTIDO XL\n",
       "2  S000065  2000362744787   TTEMP BIPACK BOXER ARROW CLASS BIB329 SURTIDO L\n",
       "3  S000065  2000362744770   TTEMP BIPACK BOXER ARROW CLASS BIB329 SURTIDO M\n",
       "4  S000065  2000362744763   TTEMP BIPACK BOXER ARROW CLASS BIB329 SURTIDO S"
      ]
     },
     "execution_count": 53,
     "metadata": {},
     "output_type": "execute_result"
    }
   ],
   "source": [
    "df.head()"
   ]
  },
  {
   "cell_type": "code",
   "execution_count": 54,
   "metadata": {},
   "outputs": [
    {
     "name": "stdout",
     "output_type": "stream",
     "text": [
      "<class 'list'>\n"
     ]
    }
   ],
   "source": [
    "print(type(lst_hiercode))"
   ]
  },
  {
   "cell_type": "code",
   "execution_count": 55,
   "metadata": {},
   "outputs": [
    {
     "name": "stdout",
     "output_type": "stream",
     "text": [
      "['S000065', 'S000117', 'S000146', 'S000157', 'S001173', 'S003028', 'S003065', 'S005002', 'S005034', 'S015004', 'S030002', 'S039004', 'S500061', 'S500109', 'S500134', 'S500136', 'S500152', 'S500173', 'S500233', 'S500305', 'S500358', 'S500564', 'S500600', 'S500618', 'S500623', 'S502259', 'S502716', 'S502723', 'S502729', 'S502736', 'S521858', 'S521874', 'S521890', 'S521891', 'S521990', 'S521991', 'S522143', 'S522470', 'S522477', 'S522484', 'S522498', 'S523574', 'S523658', 'S523964', 'S523974', 'S523976', 'S523984', 'S524335', 'S524350', 'S524358', 'S524508', 'S524951', 'S524986', 'S525433', 'S525434', 'S525439', 'S525440', 'S525444', 'S525445', 'S525450', 'S526867', 'S526868', 'S526982', 'S526983', 'S526992', 'S526996', 'S526997', 'S527034', 'S527036', 'S527072', 'S527089', 'S527111', 'S527139', 'S527207', 'S527221', 'S527287', 'S527379', 'S527983', 'S527994', 'S528012', 'S528023', 'S528026', 'S528027', 'S528029', 'S528033', 'S528035', 'S528036', 'S528037', 'S528040', 'S528042', 'S528043', 'S528046', 'S528047', 'S528167', 'S528490', 'S528616', 'S528617', 'S529371', 'S529648', 'S529714', 'S529762', 'S529786', 'S529796', 'S529822', 'S529856', 'S529892', 'S529915', 'S529922', 'S530592', 'S530647', 'S530824', 'S530833']\n"
     ]
    }
   ],
   "source": [
    "print(lst_hiercode)"
   ]
  },
  {
   "cell_type": "code",
   "execution_count": 56,
   "metadata": {},
   "outputs": [
    {
     "name": "stdout",
     "output_type": "stream",
     "text": [
      "S000065\n"
     ]
    }
   ],
   "source": [
    "print(lst_hiercode[0])"
   ]
  },
  {
   "cell_type": "code",
   "execution_count": 57,
   "metadata": {},
   "outputs": [
    {
     "name": "stdout",
     "output_type": "stream",
     "text": [
      "(4643, 2)\n"
     ]
    }
   ],
   "source": [
    "hiercode=lst_hiercode[0]\n",
    "dfiltered=df[df.hiercode==hiercode]\n",
    "dfiltered=dfiltered[['prodcode','description']]\n",
    "\n",
    "print(dfiltered.shape)"
   ]
  },
  {
   "cell_type": "code",
   "execution_count": 58,
   "metadata": {},
   "outputs": [],
   "source": [
    "from sklearn.feature_extraction.text import TfidfVectorizer"
   ]
  },
  {
   "cell_type": "code",
   "execution_count": 59,
   "metadata": {},
   "outputs": [],
   "source": [
    "tf = TfidfVectorizer(analyzer='word', ngram_range=(1, 3), min_df=0, stop_words='english')"
   ]
  },
  {
   "cell_type": "code",
   "execution_count": 60,
   "metadata": {},
   "outputs": [],
   "source": [
    "matrix = tf.fit_transform(dfiltered['description'])"
   ]
  },
  {
   "cell_type": "code",
   "execution_count": 61,
   "metadata": {},
   "outputs": [
    {
     "name": "stdout",
     "output_type": "stream",
     "text": [
      "(4643, 7160)\n"
     ]
    }
   ],
   "source": [
    "print(matrix.shape)"
   ]
  },
  {
   "cell_type": "code",
   "execution_count": 62,
   "metadata": {},
   "outputs": [],
   "source": [
    "from sklearn.metrics.pairwise import linear_kernel\n",
    "\n",
    "cosine_similarities = linear_kernel(matrix,matrix)"
   ]
  },
  {
   "cell_type": "code",
   "execution_count": 63,
   "metadata": {},
   "outputs": [
    {
     "data": {
      "text/plain": [
       "numpy.ndarray"
      ]
     },
     "execution_count": 63,
     "metadata": {},
     "output_type": "execute_result"
    }
   ],
   "source": [
    "type(cosine_similarities) "
   ]
  },
  {
   "cell_type": "code",
   "execution_count": 64,
   "metadata": {},
   "outputs": [
    {
     "name": "stdout",
     "output_type": "stream",
     "text": [
      "(4643, 4643)\n"
     ]
    }
   ],
   "source": [
    "print(cosine_similarities.shape)"
   ]
  },
  {
   "cell_type": "code",
   "execution_count": 65,
   "metadata": {},
   "outputs": [
    {
     "data": {
      "text/plain": [
       "0.907799853902843"
      ]
     },
     "execution_count": 65,
     "metadata": {},
     "output_type": "execute_result"
    }
   ],
   "source": [
    "cosine_similarities[1][3]"
   ]
  },
  {
   "cell_type": "code",
   "execution_count": 66,
   "metadata": {},
   "outputs": [],
   "source": [
    "dfiltered.index = pd.RangeIndex(len(dfiltered.index))"
   ]
  },
  {
   "cell_type": "code",
   "execution_count": 67,
   "metadata": {},
   "outputs": [
    {
     "data": {
      "text/plain": [
       "0.907799853902843"
      ]
     },
     "execution_count": 67,
     "metadata": {},
     "output_type": "execute_result"
    }
   ],
   "source": [
    "cosine_similarities[3][1]"
   ]
  },
  {
   "cell_type": "code",
   "execution_count": 68,
   "metadata": {},
   "outputs": [],
   "source": [
    "#indices = pd.Series(dfiltered['prodcode'], index=dfiltered.index)\n",
    "indices = pd.Series(dfiltered.index, index=dfiltered['prodcode'])"
   ]
  },
  {
   "cell_type": "code",
   "execution_count": 69,
   "metadata": {},
   "outputs": [
    {
     "data": {
      "text/plain": [
       "prodcode\n",
       "2000362744275       0\n",
       "2000362744794       1\n",
       "2000362744787       2\n",
       "2000362744770       3\n",
       "2000362744763       4\n",
       "                 ... \n",
       "2000369035246    4638\n",
       "2000369035239    4639\n",
       "2000369035222    4640\n",
       "2000369035215    4641\n",
       "2000369035208    4642\n",
       "Length: 4643, dtype: int64"
      ]
     },
     "execution_count": 69,
     "metadata": {},
     "output_type": "execute_result"
    }
   ],
   "source": [
    "indices"
   ]
  },
  {
   "cell_type": "code",
   "execution_count": 70,
   "metadata": {},
   "outputs": [
    {
     "data": {
      "text/plain": [
       "array([1.        , 0.14082434, 0.15512708, ..., 0.00861866, 0.00861866,\n",
       "       0.00861866])"
      ]
     },
     "execution_count": 70,
     "metadata": {},
     "output_type": "execute_result"
    }
   ],
   "source": [
    "cosine_similarities[0]"
   ]
  },
  {
   "cell_type": "code",
   "execution_count": 71,
   "metadata": {},
   "outputs": [],
   "source": [
    "f=list(filter(lambda x: x>=0.5,cosine_similarities[0]))"
   ]
  },
  {
   "cell_type": "code",
   "execution_count": 72,
   "metadata": {},
   "outputs": [
    {
     "name": "stdout",
     "output_type": "stream",
     "text": [
      "[0.9999999999999997, 0.9116949406280747, 0.9999999999999997, 0.9999999999999997]\n"
     ]
    }
   ],
   "source": [
    "print(f)"
   ]
  },
  {
   "cell_type": "code",
   "execution_count": 309,
   "metadata": {},
   "outputs": [
    {
     "name": "stdout",
     "output_type": "stream",
     "text": [
      "1\n"
     ]
    }
   ],
   "source": [
    "print(indices['2000343636872'])"
   ]
  },
  {
   "cell_type": "code",
   "execution_count": 84,
   "metadata": {},
   "outputs": [],
   "source": [
    "tf = TfidfVectorizer(analyzer='word', ngram_range=(1, 3), min_df=0, stop_words='english')\n",
    "matrix = tf.fit_transform(dfiltered['description'])\n",
    "cosine_similarities_matrix  =linear_kernel(matrix,matrix) "
   ]
  },
  {
   "cell_type": "code",
   "execution_count": 85,
   "metadata": {},
   "outputs": [],
   "source": [
    "prodcode='2000362744275'"
   ]
  },
  {
   "cell_type": "code",
   "execution_count": 86,
   "metadata": {},
   "outputs": [],
   "source": [
    "idx = indices[prodcode]\n",
    "sim_scores = list(enumerate(cosine_similarities_matrix[idx]))"
   ]
  },
  {
   "cell_type": "code",
   "execution_count": 88,
   "metadata": {},
   "outputs": [
    {
     "data": {
      "text/plain": [
       "array([[1.        , 0.14082434, 0.15512708, ..., 0.00861866, 0.00861866,\n",
       "        0.00861866],\n",
       "       [0.14082434, 1.        , 0.90779985, ..., 0.00802083, 0.00802083,\n",
       "        0.00802083],\n",
       "       [0.15512708, 0.90779985, 1.        , ..., 0.00883546, 0.00883546,\n",
       "        0.00883546],\n",
       "       ...,\n",
       "       [0.00861866, 0.00802083, 0.00883546, ..., 1.        , 1.        ,\n",
       "        1.        ],\n",
       "       [0.00861866, 0.00802083, 0.00883546, ..., 1.        , 1.        ,\n",
       "        1.        ],\n",
       "       [0.00861866, 0.00802083, 0.00883546, ..., 1.        , 1.        ,\n",
       "        1.        ]])"
      ]
     },
     "execution_count": 88,
     "metadata": {},
     "output_type": "execute_result"
    }
   ],
   "source": [
    "cosine_similarities_matrix"
   ]
  },
  {
   "cell_type": "code",
   "execution_count": 89,
   "metadata": {},
   "outputs": [
    {
     "data": {
      "text/plain": [
       "prodcode\n",
       "2000362744275       0\n",
       "2000362744794       1\n",
       "2000362744787       2\n",
       "2000362744770       3\n",
       "2000362744763       4\n",
       "                 ... \n",
       "2000369035246    4638\n",
       "2000369035239    4639\n",
       "2000369035222    4640\n",
       "2000369035215    4641\n",
       "2000369035208    4642\n",
       "Length: 4643, dtype: int64"
      ]
     },
     "execution_count": 89,
     "metadata": {},
     "output_type": "execute_result"
    }
   ],
   "source": [
    "indices"
   ]
  },
  {
   "cell_type": "code",
   "execution_count": null,
   "metadata": {},
   "outputs": [],
   "source": []
  },
  {
   "cell_type": "code",
   "execution_count": null,
   "metadata": {},
   "outputs": [],
   "source": []
  },
  {
   "cell_type": "code",
   "execution_count": null,
   "metadata": {},
   "outputs": [],
   "source": []
  },
  {
   "cell_type": "code",
   "execution_count": null,
   "metadata": {},
   "outputs": [],
   "source": []
  }
 ],
 "metadata": {
  "kernelspec": {
   "display_name": "Python 3",
   "language": "python",
   "name": "python3"
  },
  "language_info": {
   "codemirror_mode": {
    "name": "ipython",
    "version": 3
   },
   "file_extension": ".py",
   "mimetype": "text/x-python",
   "name": "python",
   "nbconvert_exporter": "python",
   "pygments_lexer": "ipython3",
   "version": "3.8.5"
  }
 },
 "nbformat": 4,
 "nbformat_minor": 4
}
